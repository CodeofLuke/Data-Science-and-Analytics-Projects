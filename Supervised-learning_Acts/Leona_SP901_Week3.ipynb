{
 "cells": [
  {
   "cell_type": "code",
   "execution_count": 1,
   "metadata": {},
   "outputs": [],
   "source": [
    "from sklearn.datasets import load_iris\n",
    "from sklearn.cluster import KMeans, DBSCAN, AgglomerativeClustering\n",
    "from sklearn.metrics import adjusted_rand_score, silhouette_score\n",
    "import pandas as pd"
   ]
  },
  {
   "cell_type": "code",
   "execution_count": 2,
   "metadata": {},
   "outputs": [],
   "source": [
    "iris = load_iris()\n",
    "X = iris.data\n",
    "y = iris.target"
   ]
  },
  {
   "cell_type": "code",
   "execution_count": 3,
   "metadata": {},
   "outputs": [],
   "source": [
    "kmeans = KMeans(n_clusters=3, random_state=42)\n",
    "dbscan = DBSCAN(eps=0.5)\n",
    "hierarchical = AgglomerativeClustering(n_clusters=3)"
   ]
  },
  {
   "cell_type": "code",
   "execution_count": 4,
   "metadata": {},
   "outputs": [
    {
     "name": "stderr",
     "output_type": "stream",
     "text": [
      "c:\\Users\\LUKE MARK LEONA\\Lib\\site-packages\\sklearn\\cluster\\_kmeans.py:870: FutureWarning: The default value of `n_init` will change from 10 to 'auto' in 1.4. Set the value of `n_init` explicitly to suppress the warning\n",
      "  warnings.warn(\n"
     ]
    }
   ],
   "source": [
    "kmeans_labels = kmeans.fit_predict(X)\n",
    "dbscan_labels = dbscan.fit_predict(X)\n",
    "hierarchical_labels = hierarchical.fit_predict(X)"
   ]
  },
  {
   "cell_type": "code",
   "execution_count": 5,
   "metadata": {},
   "outputs": [],
   "source": [
    "ari_kmeans = adjusted_rand_score(y, kmeans_labels)\n",
    "ari_dbscan = adjusted_rand_score(y, dbscan_labels)\n",
    "ari_hierarchical = adjusted_rand_score(y, hierarchical_labels)\n",
    "\n",
    "silhouette_kmeans = silhouette_score(X, kmeans_labels)\n",
    "silhouette_dbscan = silhouette_score(X, dbscan_labels)\n",
    "silhouette_hierarchical = silhouette_score(X, hierarchical_labels)"
   ]
  },
  {
   "cell_type": "code",
   "execution_count": 6,
   "metadata": {},
   "outputs": [],
   "source": [
    "results = pd.DataFrame({\n",
    "    'Algorithm': ['KMeans', 'DBSCAN', 'Hierarchical'],\n",
    "    'ARI': [ari_kmeans, ari_dbscan, ari_hierarchical],\n",
    "    'Silhouette Score': [silhouette_kmeans, silhouette_dbscan, silhouette_hierarchical]\n",
    "})"
   ]
  },
  {
   "cell_type": "code",
   "execution_count": 7,
   "metadata": {},
   "outputs": [
    {
     "name": "stdout",
     "output_type": "stream",
     "text": [
      "      Algorithm       ARI  Silhouette Score\n",
      "0        KMeans  0.730238          0.552819\n",
      "1        DBSCAN  0.520619          0.486034\n",
      "2  Hierarchical  0.731199          0.554324\n"
     ]
    }
   ],
   "source": [
    "print(results)"
   ]
  }
 ],
 "metadata": {
  "kernelspec": {
   "display_name": "Python 3",
   "language": "python",
   "name": "python3"
  },
  "language_info": {
   "codemirror_mode": {
    "name": "ipython",
    "version": 3
   },
   "file_extension": ".py",
   "mimetype": "text/x-python",
   "name": "python",
   "nbconvert_exporter": "python",
   "pygments_lexer": "ipython3",
   "version": "3.11.3"
  }
 },
 "nbformat": 4,
 "nbformat_minor": 2
}
